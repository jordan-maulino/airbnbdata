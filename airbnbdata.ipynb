{
 "metadata": {
  "language_info": {
   "codemirror_mode": {
    "name": "ipython",
    "version": 3
   },
   "file_extension": ".py",
   "mimetype": "text/x-python",
   "name": "python",
   "nbconvert_exporter": "python",
   "pygments_lexer": "ipython3",
   "version": "3.8.3-final"
  },
  "orig_nbformat": 2,
  "kernelspec": {
   "name": "python_defaultSpec_1606871410590",
   "display_name": "Python 3.8.3 64-bit ('base': conda)"
  }
 },
 "nbformat": 4,
 "nbformat_minor": 2,
 "cells": [
  {
   "cell_type": "code",
   "execution_count": 11,
   "metadata": {},
   "outputs": [
    {
     "output_type": "execute_result",
     "data": {
      "text/plain": "       id                                               name  host_id  \\\n0   38585    Charming Victorian home - twin beds + breakfast   165529   \n1   80905                                   French Chic Loft   427027   \n2  108061  Walk to stores/parks/downtown. Fenced yard/Pet...   320564   \n3  155305                 Cottage! BonPaul + Sharky's Hostel   746673   \n4  160594                                Historic Grove Park   769252   \n\n   host_name neighbourhood_group neighbourhood  latitude  longitude  \\\n0    Evelyne                 NaN         28804  35.65146  -82.62792   \n1    Celeste                 NaN         28801  35.59779  -82.55540   \n2       Lisa                 NaN         28801  35.60670  -82.55563   \n3    BonPaul                 NaN         28806  35.57864  -82.59578   \n4  Elizabeth                 NaN         28801  35.61442  -82.54127   \n\n         room_type  price  minimum_nights  number_of_reviews last_review  \\\n0     Private room     60               1                138    16/02/20   \n1  Entire home/apt    470               1                114    07/09/20   \n2  Entire home/apt     75              30                 89    30/11/19   \n3  Entire home/apt     90               1                267    22/09/20   \n4     Private room    125              30                 58    19/10/15   \n\n   reviews_per_month  calculated_host_listings_count  availability_365  \\\n0               1.14                               1                 0   \n1               1.03                              11               288   \n2               0.81                               2               298   \n3               2.39                               5                 0   \n4               0.52                               1                 0   \n\n        city  \n0  Asheville  \n1  Asheville  \n2  Asheville  \n3  Asheville  \n4  Asheville  ",
      "text/html": "<div>\n<style scoped>\n    .dataframe tbody tr th:only-of-type {\n        vertical-align: middle;\n    }\n\n    .dataframe tbody tr th {\n        vertical-align: top;\n    }\n\n    .dataframe thead th {\n        text-align: right;\n    }\n</style>\n<table border=\"1\" class=\"dataframe\">\n  <thead>\n    <tr style=\"text-align: right;\">\n      <th></th>\n      <th>id</th>\n      <th>name</th>\n      <th>host_id</th>\n      <th>host_name</th>\n      <th>neighbourhood_group</th>\n      <th>neighbourhood</th>\n      <th>latitude</th>\n      <th>longitude</th>\n      <th>room_type</th>\n      <th>price</th>\n      <th>minimum_nights</th>\n      <th>number_of_reviews</th>\n      <th>last_review</th>\n      <th>reviews_per_month</th>\n      <th>calculated_host_listings_count</th>\n      <th>availability_365</th>\n      <th>city</th>\n    </tr>\n  </thead>\n  <tbody>\n    <tr>\n      <th>0</th>\n      <td>38585</td>\n      <td>Charming Victorian home - twin beds + breakfast</td>\n      <td>165529</td>\n      <td>Evelyne</td>\n      <td>NaN</td>\n      <td>28804</td>\n      <td>35.65146</td>\n      <td>-82.62792</td>\n      <td>Private room</td>\n      <td>60</td>\n      <td>1</td>\n      <td>138</td>\n      <td>16/02/20</td>\n      <td>1.14</td>\n      <td>1</td>\n      <td>0</td>\n      <td>Asheville</td>\n    </tr>\n    <tr>\n      <th>1</th>\n      <td>80905</td>\n      <td>French Chic Loft</td>\n      <td>427027</td>\n      <td>Celeste</td>\n      <td>NaN</td>\n      <td>28801</td>\n      <td>35.59779</td>\n      <td>-82.55540</td>\n      <td>Entire home/apt</td>\n      <td>470</td>\n      <td>1</td>\n      <td>114</td>\n      <td>07/09/20</td>\n      <td>1.03</td>\n      <td>11</td>\n      <td>288</td>\n      <td>Asheville</td>\n    </tr>\n    <tr>\n      <th>2</th>\n      <td>108061</td>\n      <td>Walk to stores/parks/downtown. Fenced yard/Pet...</td>\n      <td>320564</td>\n      <td>Lisa</td>\n      <td>NaN</td>\n      <td>28801</td>\n      <td>35.60670</td>\n      <td>-82.55563</td>\n      <td>Entire home/apt</td>\n      <td>75</td>\n      <td>30</td>\n      <td>89</td>\n      <td>30/11/19</td>\n      <td>0.81</td>\n      <td>2</td>\n      <td>298</td>\n      <td>Asheville</td>\n    </tr>\n    <tr>\n      <th>3</th>\n      <td>155305</td>\n      <td>Cottage! BonPaul + Sharky's Hostel</td>\n      <td>746673</td>\n      <td>BonPaul</td>\n      <td>NaN</td>\n      <td>28806</td>\n      <td>35.57864</td>\n      <td>-82.59578</td>\n      <td>Entire home/apt</td>\n      <td>90</td>\n      <td>1</td>\n      <td>267</td>\n      <td>22/09/20</td>\n      <td>2.39</td>\n      <td>5</td>\n      <td>0</td>\n      <td>Asheville</td>\n    </tr>\n    <tr>\n      <th>4</th>\n      <td>160594</td>\n      <td>Historic Grove Park</td>\n      <td>769252</td>\n      <td>Elizabeth</td>\n      <td>NaN</td>\n      <td>28801</td>\n      <td>35.61442</td>\n      <td>-82.54127</td>\n      <td>Private room</td>\n      <td>125</td>\n      <td>30</td>\n      <td>58</td>\n      <td>19/10/15</td>\n      <td>0.52</td>\n      <td>1</td>\n      <td>0</td>\n      <td>Asheville</td>\n    </tr>\n  </tbody>\n</table>\n</div>"
     },
     "metadata": {},
     "execution_count": 11
    }
   ],
   "source": [
    "import pandas as pd\n",
    "import numpy as np \n",
    "abb = pd.read_csv('AB_US_2020.csv')\n",
    "\n",
    "abb.head()"
   ]
  },
  {
   "cell_type": "code",
   "execution_count": 7,
   "metadata": {
    "tags": []
   },
   "outputs": [
    {
     "output_type": "stream",
     "name": "stdout",
     "text": "<class 'pandas.core.frame.DataFrame'>\nRangeIndex: 226030 entries, 0 to 226029\nData columns (total 17 columns):\n #   Column                          Non-Null Count   Dtype  \n---  ------                          --------------   -----  \n 0   id                              226030 non-null  int64  \n 1   name                            226002 non-null  object \n 2   host_id                         226030 non-null  int64  \n 3   host_name                       225997 non-null  object \n 4   neighbourhood_group             110185 non-null  object \n 5   neighbourhood                   226030 non-null  object \n 6   latitude                        226030 non-null  float64\n 7   longitude                       226030 non-null  float64\n 8   room_type                       226030 non-null  object \n 9   price                           226030 non-null  int64  \n 10  minimum_nights                  226030 non-null  int64  \n 11  number_of_reviews               226030 non-null  int64  \n 12  last_review                     177428 non-null  object \n 13  reviews_per_month               177428 non-null  float64\n 14  calculated_host_listings_count  226030 non-null  int64  \n 15  availability_365                226030 non-null  int64  \n 16  city                            226030 non-null  object \ndtypes: float64(3), int64(7), object(7)\nmemory usage: 29.3+ MB\n"
    }
   ],
   "source": [
    "abb.info()"
   ]
  },
  {
   "cell_type": "code",
   "execution_count": 9,
   "metadata": {},
   "outputs": [
    {
     "output_type": "execute_result",
     "data": {
      "text/plain": "id                                     0\nname                                  28\nhost_id                                0\nhost_name                             33\nneighbourhood_group               115845\nneighbourhood                          0\nlatitude                               0\nlongitude                              0\nroom_type                              0\nprice                                  0\nminimum_nights                         0\nnumber_of_reviews                      0\nlast_review                        48602\nreviews_per_month                  48602\ncalculated_host_listings_count         0\navailability_365                       0\ncity                                   0\ndtype: int64"
     },
     "metadata": {},
     "execution_count": 9
    }
   ],
   "source": [
    "abb.isnull().sum()"
   ]
  },
  {
   "cell_type": "code",
   "execution_count": 12,
   "metadata": {},
   "outputs": [
    {
     "output_type": "execute_result",
     "data": {
      "text/plain": "                 id       host_id       latitude      longitude  \\\ncount  2.260300e+05  2.260300e+05  226030.000000  226030.000000   \nmean   2.547176e+07  9.352385e+07      35.662829    -103.220662   \nstd    1.317814e+07  9.827422e+07       6.849855      26.222091   \nmin    1.090000e+02  2.300000e+01      18.920990    -159.714900   \n25%    1.515890e+07  1.399275e+07      32.761783    -118.598115   \n50%    2.590916e+07  5.138266e+07      37.261125     -97.817200   \n75%    3.772624e+07  1.497179e+08      40.724038     -76.919322   \nmax    4.556085e+07  3.679176e+08      47.734620     -70.995950   \n\n               price  minimum_nights  number_of_reviews  reviews_per_month  \\\ncount  226030.000000    2.260300e+05      226030.000000       177428.00000   \nmean      219.716529    4.525490e+02          34.506530            1.43145   \nstd       570.353609    2.103376e+05          63.602914            1.68321   \nmin         0.000000    1.000000e+00           0.000000            0.01000   \n25%        75.000000    1.000000e+00           1.000000            0.23000   \n50%       121.000000    2.000000e+00           8.000000            0.81000   \n75%       201.000000    7.000000e+00          39.000000            2.06000   \nmax     24999.000000    1.000000e+08         966.000000           44.06000   \n\n       calculated_host_listings_count  availability_365  \ncount                   226030.000000     226030.000000  \nmean                        16.698562        159.314856  \nstd                         51.068966        140.179628  \nmin                          1.000000          0.000000  \n25%                          1.000000          0.000000  \n50%                          2.000000        140.000000  \n75%                          6.000000        311.000000  \nmax                        593.000000        365.000000  ",
      "text/html": "<div>\n<style scoped>\n    .dataframe tbody tr th:only-of-type {\n        vertical-align: middle;\n    }\n\n    .dataframe tbody tr th {\n        vertical-align: top;\n    }\n\n    .dataframe thead th {\n        text-align: right;\n    }\n</style>\n<table border=\"1\" class=\"dataframe\">\n  <thead>\n    <tr style=\"text-align: right;\">\n      <th></th>\n      <th>id</th>\n      <th>host_id</th>\n      <th>latitude</th>\n      <th>longitude</th>\n      <th>price</th>\n      <th>minimum_nights</th>\n      <th>number_of_reviews</th>\n      <th>reviews_per_month</th>\n      <th>calculated_host_listings_count</th>\n      <th>availability_365</th>\n    </tr>\n  </thead>\n  <tbody>\n    <tr>\n      <th>count</th>\n      <td>2.260300e+05</td>\n      <td>2.260300e+05</td>\n      <td>226030.000000</td>\n      <td>226030.000000</td>\n      <td>226030.000000</td>\n      <td>2.260300e+05</td>\n      <td>226030.000000</td>\n      <td>177428.00000</td>\n      <td>226030.000000</td>\n      <td>226030.000000</td>\n    </tr>\n    <tr>\n      <th>mean</th>\n      <td>2.547176e+07</td>\n      <td>9.352385e+07</td>\n      <td>35.662829</td>\n      <td>-103.220662</td>\n      <td>219.716529</td>\n      <td>4.525490e+02</td>\n      <td>34.506530</td>\n      <td>1.43145</td>\n      <td>16.698562</td>\n      <td>159.314856</td>\n    </tr>\n    <tr>\n      <th>std</th>\n      <td>1.317814e+07</td>\n      <td>9.827422e+07</td>\n      <td>6.849855</td>\n      <td>26.222091</td>\n      <td>570.353609</td>\n      <td>2.103376e+05</td>\n      <td>63.602914</td>\n      <td>1.68321</td>\n      <td>51.068966</td>\n      <td>140.179628</td>\n    </tr>\n    <tr>\n      <th>min</th>\n      <td>1.090000e+02</td>\n      <td>2.300000e+01</td>\n      <td>18.920990</td>\n      <td>-159.714900</td>\n      <td>0.000000</td>\n      <td>1.000000e+00</td>\n      <td>0.000000</td>\n      <td>0.01000</td>\n      <td>1.000000</td>\n      <td>0.000000</td>\n    </tr>\n    <tr>\n      <th>25%</th>\n      <td>1.515890e+07</td>\n      <td>1.399275e+07</td>\n      <td>32.761783</td>\n      <td>-118.598115</td>\n      <td>75.000000</td>\n      <td>1.000000e+00</td>\n      <td>1.000000</td>\n      <td>0.23000</td>\n      <td>1.000000</td>\n      <td>0.000000</td>\n    </tr>\n    <tr>\n      <th>50%</th>\n      <td>2.590916e+07</td>\n      <td>5.138266e+07</td>\n      <td>37.261125</td>\n      <td>-97.817200</td>\n      <td>121.000000</td>\n      <td>2.000000e+00</td>\n      <td>8.000000</td>\n      <td>0.81000</td>\n      <td>2.000000</td>\n      <td>140.000000</td>\n    </tr>\n    <tr>\n      <th>75%</th>\n      <td>3.772624e+07</td>\n      <td>1.497179e+08</td>\n      <td>40.724038</td>\n      <td>-76.919322</td>\n      <td>201.000000</td>\n      <td>7.000000e+00</td>\n      <td>39.000000</td>\n      <td>2.06000</td>\n      <td>6.000000</td>\n      <td>311.000000</td>\n    </tr>\n    <tr>\n      <th>max</th>\n      <td>4.556085e+07</td>\n      <td>3.679176e+08</td>\n      <td>47.734620</td>\n      <td>-70.995950</td>\n      <td>24999.000000</td>\n      <td>1.000000e+08</td>\n      <td>966.000000</td>\n      <td>44.06000</td>\n      <td>593.000000</td>\n      <td>365.000000</td>\n    </tr>\n  </tbody>\n</table>\n</div>"
     },
     "metadata": {},
     "execution_count": 12
    }
   ],
   "source": [
    "abb.describe()"
   ]
  },
  {
   "cell_type": "code",
   "execution_count": 13,
   "metadata": {},
   "outputs": [],
   "source": [
    "#todo \n",
    "#eda visualizations\n",
    "#linear regression\n",
    "#random forest"
   ]
  },
  {
   "cell_type": "markdown",
   "metadata": {},
   "source": []
  }
 ]
}