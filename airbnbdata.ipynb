{
 "metadata": {
  "language_info": {
   "codemirror_mode": {
    "name": "ipython",
    "version": 3
   },
   "file_extension": ".py",
   "mimetype": "text/x-python",
   "name": "python",
   "nbconvert_exporter": "python",
   "pygments_lexer": "ipython3",
   "version": "3.8.3-final"
  },
  "orig_nbformat": 2,
  "kernelspec": {
   "name": "python_defaultSpec_1606871410590",
   "display_name": "Python 3.8.3 64-bit ('base': conda)"
  }
 },
 "nbformat": 4,
 "nbformat_minor": 2,
 "cells": [
  {
   "cell_type": "code",
   "execution_count": 3,
   "metadata": {},
   "outputs": [
    {
     "output_type": "execute_result",
     "data": {
      "text/plain": "       id                                               name  host_id  \\\n0   38585    Charming Victorian home - twin beds + breakfast   165529   \n1   80905                                   French Chic Loft   427027   \n2  108061  Walk to stores/parks/downtown. Fenced yard/Pet...   320564   \n3  155305                 Cottage! BonPaul + Sharky's Hostel   746673   \n4  160594                                Historic Grove Park   769252   \n\n   host_name neighbourhood_group neighbourhood  latitude  longitude  \\\n0    Evelyne                 NaN         28804  35.65146  -82.62792   \n1    Celeste                 NaN         28801  35.59779  -82.55540   \n2       Lisa                 NaN         28801  35.60670  -82.55563   \n3    BonPaul                 NaN         28806  35.57864  -82.59578   \n4  Elizabeth                 NaN         28801  35.61442  -82.54127   \n\n         room_type  price  minimum_nights  number_of_reviews last_review  \\\n0     Private room     60               1                138    16/02/20   \n1  Entire home/apt    470               1                114    07/09/20   \n2  Entire home/apt     75              30                 89    30/11/19   \n3  Entire home/apt     90               1                267    22/09/20   \n4     Private room    125              30                 58    19/10/15   \n\n   reviews_per_month  calculated_host_listings_count  availability_365  \\\n0               1.14                               1                 0   \n1               1.03                              11               288   \n2               0.81                               2               298   \n3               2.39                               5                 0   \n4               0.52                               1                 0   \n\n        city  \n0  Asheville  \n1  Asheville  \n2  Asheville  \n3  Asheville  \n4  Asheville  ",
      "text/html": "<div>\n<style scoped>\n    .dataframe tbody tr th:only-of-type {\n        vertical-align: middle;\n    }\n\n    .dataframe tbody tr th {\n        vertical-align: top;\n    }\n\n    .dataframe thead th {\n        text-align: right;\n    }\n</style>\n<table border=\"1\" class=\"dataframe\">\n  <thead>\n    <tr style=\"text-align: right;\">\n      <th></th>\n      <th>id</th>\n      <th>name</th>\n      <th>host_id</th>\n      <th>host_name</th>\n      <th>neighbourhood_group</th>\n      <th>neighbourhood</th>\n      <th>latitude</th>\n      <th>longitude</th>\n      <th>room_type</th>\n      <th>price</th>\n      <th>minimum_nights</th>\n      <th>number_of_reviews</th>\n      <th>last_review</th>\n      <th>reviews_per_month</th>\n      <th>calculated_host_listings_count</th>\n      <th>availability_365</th>\n      <th>city</th>\n    </tr>\n  </thead>\n  <tbody>\n    <tr>\n      <th>0</th>\n      <td>38585</td>\n      <td>Charming Victorian home - twin beds + breakfast</td>\n      <td>165529</td>\n      <td>Evelyne</td>\n      <td>NaN</td>\n      <td>28804</td>\n      <td>35.65146</td>\n      <td>-82.62792</td>\n      <td>Private room</td>\n      <td>60</td>\n      <td>1</td>\n      <td>138</td>\n      <td>16/02/20</td>\n      <td>1.14</td>\n      <td>1</td>\n      <td>0</td>\n      <td>Asheville</td>\n    </tr>\n    <tr>\n      <th>1</th>\n      <td>80905</td>\n      <td>French Chic Loft</td>\n      <td>427027</td>\n      <td>Celeste</td>\n      <td>NaN</td>\n      <td>28801</td>\n      <td>35.59779</td>\n      <td>-82.55540</td>\n      <td>Entire home/apt</td>\n      <td>470</td>\n      <td>1</td>\n      <td>114</td>\n      <td>07/09/20</td>\n      <td>1.03</td>\n      <td>11</td>\n      <td>288</td>\n      <td>Asheville</td>\n    </tr>\n    <tr>\n      <th>2</th>\n      <td>108061</td>\n      <td>Walk to stores/parks/downtown. Fenced yard/Pet...</td>\n      <td>320564</td>\n      <td>Lisa</td>\n      <td>NaN</td>\n      <td>28801</td>\n      <td>35.60670</td>\n      <td>-82.55563</td>\n      <td>Entire home/apt</td>\n      <td>75</td>\n      <td>30</td>\n      <td>89</td>\n      <td>30/11/19</td>\n      <td>0.81</td>\n      <td>2</td>\n      <td>298</td>\n      <td>Asheville</td>\n    </tr>\n    <tr>\n      <th>3</th>\n      <td>155305</td>\n      <td>Cottage! BonPaul + Sharky's Hostel</td>\n      <td>746673</td>\n      <td>BonPaul</td>\n      <td>NaN</td>\n      <td>28806</td>\n      <td>35.57864</td>\n      <td>-82.59578</td>\n      <td>Entire home/apt</td>\n      <td>90</td>\n      <td>1</td>\n      <td>267</td>\n      <td>22/09/20</td>\n      <td>2.39</td>\n      <td>5</td>\n      <td>0</td>\n      <td>Asheville</td>\n    </tr>\n    <tr>\n      <th>4</th>\n      <td>160594</td>\n      <td>Historic Grove Park</td>\n      <td>769252</td>\n      <td>Elizabeth</td>\n      <td>NaN</td>\n      <td>28801</td>\n      <td>35.61442</td>\n      <td>-82.54127</td>\n      <td>Private room</td>\n      <td>125</td>\n      <td>30</td>\n      <td>58</td>\n      <td>19/10/15</td>\n      <td>0.52</td>\n      <td>1</td>\n      <td>0</td>\n      <td>Asheville</td>\n    </tr>\n  </tbody>\n</table>\n</div>"
     },
     "metadata": {},
     "execution_count": 3
    }
   ],
   "source": [
    "import pandas as pd\n",
    "abb = pd.read_csv('AB_US_2020.csv')\n",
    "\n",
    "abb.head()\n"
   ]
  },
  {
   "cell_type": "code",
   "execution_count": null,
   "metadata": {},
   "outputs": [],
   "source": []
  }
 ]
}